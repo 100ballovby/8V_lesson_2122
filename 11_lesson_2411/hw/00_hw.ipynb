{
 "cells": [
  {
   "cell_type": "markdown",
   "metadata": {
    "collapsed": true,
    "pycharm": {
     "is_executing": true
    }
   },
   "source": [
    "## ДЗ 24.11.2021\n",
    "\n",
    "<p><b>Задача 7.</b> В массиве действительных чисел все нулевые элменты заменить на среднее арифметическое всех элементов массива.</p>"
   ]
  },
  {
   "cell_type": "code",
   "execution_count": 1,
   "metadata": {},
   "outputs": [],
   "source": [
    "nums = [4, 5, 7, 2, 0, 2, 0, 1, 9, 0, 5, 0, 12, 0]"
   ]
  },
  {
   "cell_type": "markdown",
   "metadata": {},
   "source": [
    "<p>Изначально создаем список (наполнять автоматом необязательно), в котором некоторые элементы являются нулями.</p>\n",
    "<p>Для решения задачи посчитаем среднее арифметическое. Двумя способами:</p>\n",
    "\n",
    "<ol>\n",
    "    <li>Цикл и переменная для суммирования;</li>\n",
    "    <li>Использование функций <code>sum()</code>, которая суммирует все элементы последовательности; <code>len()</code>, которая измеряет длину последовательности.</li>\n",
    "</ol>"
   ]
  },
  {
   "cell_type": "code",
   "execution_count": 2,
   "metadata": {},
   "outputs": [
    {
     "name": "stdout",
     "output_type": "stream",
     "text": [
      "Среднее арифметическое: 3.357142857142857.\n"
     ]
    }
   ],
   "source": [
    "summary = 0\n",
    "for num in nums:\n",
    "    summary += num\n",
    "    \n",
    "print(f'Среднее арифметическое: {summary / 14}.')"
   ]
  },
  {
   "cell_type": "markdown",
   "metadata": {},
   "source": [
    "<p>Первый способ достаточно длинный и не самый удачный с точки зрения написания кода. Вот второй:</p>"
   ]
  },
  {
   "cell_type": "code",
   "execution_count": 4,
   "metadata": {},
   "outputs": [
    {
     "name": "stdout",
     "output_type": "stream",
     "text": [
      "Среднее арифметическое: 3.357142857142857.\n"
     ]
    }
   ],
   "source": [
    "mid = sum(nums) / len(nums)\n",
    "\n",
    "print(f'Среднее арифметическое: {mid}.')"
   ]
  },
  {
   "cell_type": "markdown",
   "metadata": {},
   "source": [
    "<p>После того, как среднее арифметическое посчитано, перейдем к главной задаче - замене нулей на среднее арифметическое. Для этого нужно перебрать элементы списка <b>по индексам</b>, потому что их нужно будет заменить. А замена производится так: <code>array[index] = new_value</code>.</p>"
   ]
  },
  {
   "cell_type": "code",
   "execution_count": 8,
   "metadata": {},
   "outputs": [
    {
     "name": "stdout",
     "output_type": "stream",
     "text": [
      "[4, 5, 7, 2, 3.357142857142857, 2, 3.357142857142857, 1, 9, 3.357142857142857, 5, 3.357142857142857, 12, 3.357142857142857]\n"
     ]
    }
   ],
   "source": [
    "for index in range(len(nums)):\n",
    "    if nums[index] == 0:\n",
    "        nums[index] = mid\n",
    "        \n",
    "print(nums)"
   ]
  },
  {
   "cell_type": "code",
   "execution_count": null,
   "metadata": {},
   "outputs": [],
   "source": []
  }
 ],
 "metadata": {
  "kernelspec": {
   "display_name": "Python 3 (ipykernel)",
   "language": "python",
   "name": "python3"
  },
  "language_info": {
   "codemirror_mode": {
    "name": "ipython",
    "version": 3
   },
   "file_extension": ".py",
   "mimetype": "text/x-python",
   "name": "python",
   "nbconvert_exporter": "python",
   "pygments_lexer": "ipython3",
   "version": "3.7.7"
  }
 },
 "nbformat": 4,
 "nbformat_minor": 1
}