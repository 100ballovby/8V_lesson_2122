{
 "cells": [
  {
   "cell_type": "markdown",
   "source": [
    "# Строки (<code>str</code>)\n",
    "\n",
    "<p><b>Строки</b> в программировании - это любая последовательность символов, заключенная в кавычки. Тип кавычек не имеет значения. Можно использовать как <code>' '</code>, так и <code>\" \"</code></p>\n",
    "\n",
    "<p>Строки - это индексируемые объекты. У каждого символа <b>(кроме кавычек)</b> в строке есть свой порядковый номер - <b>индекс</b>. Индексы начинаются с нуля.</p>\n",
    "\n",
    "<p><i>Список - это строка на стероидах.</i></p>"
   ],
   "metadata": {
    "collapsed": false,
    "pycharm": {
     "name": "#%% md\n"
    }
   }
  },
  {
   "cell_type": "code",
   "execution_count": 1,
   "metadata": {},
   "outputs": [
    {
     "name": "stdout",
     "output_type": "stream",
     "text": [
      "<class 'str'>\n"
     ]
    }
   ],
   "source": [
    "greeting = 'Привет! Я строка!'\n",
    "\n",
    "print(type(greeting))  # str"
   ]
  },
  {
   "cell_type": "markdown",
   "metadata": {},
   "source": [
    "<p>Строки должны начинаться и заканчиваться одним и тем же типом кавычек. Если вы напишите <code>a = \"Hello, world!'</code>, вы получите ошибку. Потому что кавычки не совпадают.</p>"
   ]
  },
  {
   "cell_type": "code",
   "execution_count": 2,
   "metadata": {},
   "outputs": [
    {
     "ename": "SyntaxError",
     "evalue": "unterminated string literal (detected at line 1) (3892775029.py, line 1)",
     "output_type": "error",
     "traceback": [
      "\u001B[0;36m  Input \u001B[0;32mIn [2]\u001B[0;36m\u001B[0m\n\u001B[0;31m    phrase = 'Hello, I'm a Python developer!'\u001B[0m\n\u001B[0m                                            ^\u001B[0m\n\u001B[0;31mSyntaxError\u001B[0m\u001B[0;31m:\u001B[0m unterminated string literal (detected at line 1)\n"
     ]
    }
   ],
   "source": [
    "phrase = 'Hello, I'm a Python developer!'"
   ]
  },
  {
   "cell_type": "markdown",
   "metadata": {},
   "source": [
    "<p>Для Python в примере сверху строчка заканчивается после буквы <code>I</code>, а вторая строчка начинается после символа <code>!</code>. Все, что находится между этими двумя строчками, Python воспринимает, как отдельные переменные (которые не определены).</p>\n",
    "\n",
    "<p>Чтобы избежать ошибки, можно:</p>\n",
    "\n",
    "<ol>\n",
    "    <li>Использовать разные типы кавычек в строке, например: <code>\"Hello! I'm a Python developer!\"</code> - так как в этом примере строка начинается и заканчивается двойными кавычками, одинарная кавычка не будет восприниматься как начало/окончание строки;</li>\n",
    "    <li>Испоользовать символ экранирования - <code>\\</code>. Символ экранирования говорит Python, что следующий после него символ нужно игнорировать и никак не воспринимать.</li>\n",
    "</ol>"
   ]
  },
  {
   "cell_type": "code",
   "execution_count": 3,
   "metadata": {},
   "outputs": [
    {
     "name": "stdout",
     "output_type": "stream",
     "text": [
      "Hello, I'm a Python developer!\n"
     ]
    }
   ],
   "source": [
    "phrase1 = \"Hello, I'm a Python developer!\"\n",
    "\n",
    "print(phrase1)"
   ]
  },
  {
   "cell_type": "code",
   "execution_count": 4,
   "metadata": {},
   "outputs": [
    {
     "name": "stdout",
     "output_type": "stream",
     "text": [
      "Hello, I'm a Python developer!\n"
     ]
    }
   ],
   "source": [
    "phrase1 = 'Hello, I\\'m a Python developer!'\n",
    "\n",
    "print(phrase1)"
   ]
  },
  {
   "cell_type": "markdown",
   "metadata": {},
   "source": [
    "<p>Использование символа экранирования хоть и спасает ситуацию, но в большинстве случаев им очень неудобно пользоваться. Вам нужно ставить такой символ перед каждой кавычкой, которую вы хотите заигнорить. Если их много - это просто неудобно.</p>\n",
    "\n",
    "## Операции со строками\n",
    "\n",
    "<p>Со строчками, как и с другими типами данных, можно производить различные математические операции, в том числе и математического порядка.</p>\n",
    "\n",
    "### Конкатенация\n",
    "\n",
    "<p>Строчки можно складывать, <b>но складывать их можно только со строчками</b>. В случае сложения двух строк, вы получите склеенную строчку. Складывать строки с другими типами данных нельзя.</p>"
   ]
  },
  {
   "cell_type": "code",
   "execution_count": 5,
   "metadata": {},
   "outputs": [
    {
     "name": "stdout",
     "output_type": "stream",
     "text": [
      "машина\n"
     ]
    }
   ],
   "source": [
    "a = 'ма'\n",
    "b = 'шина'\n",
    "\n",
    "print(a + b)"
   ]
  },
  {
   "cell_type": "markdown",
   "source": [
    "### Умножение \n",
    "\n",
    "<p>Строки можно умножать (в основном только в Python), но умножать строчки можно только на числа. Если умножить число на строчку, вы получите новую строчку, в которой будет написан текст n-раз.</p>"
   ],
   "metadata": {
    "collapsed": false,
    "pycharm": {
     "name": "#%% md\n"
    }
   }
  },
  {
   "cell_type": "code",
   "execution_count": 30,
   "outputs": [
    {
     "name": "stdout",
     "output_type": "stream",
     "text": [
      "aaaaa\n"
     ]
    }
   ],
   "source": [
    "letter = 'a'\n",
    "\n",
    "print(letter * 5)"
   ],
   "metadata": {
    "collapsed": false,
    "pycharm": {
     "name": "#%%\n"
    }
   }
  },
  {
   "cell_type": "markdown",
   "source": [
    "### Деление строк\n",
    "\n",
    "<p>Лучшее, что я могу предложить - на картинке.</p>\n",
    "\n",
    "![strings.png](strings.png)\n",
    "\n",
    "<p>Операция разности и операция деления в принципе для компьютера являются очень нежелательными. Деление - это очень не логичная операция, потому что <b>10 / 2</b> - это может быть <b>1 и 9</b>, <b>2 и 8</b>, <b>3 и 7</b> и т.д.</p>\n",
    "\n",
    "<p>Операции деления и разности со строками невозможны в силу того, что написано на скриншоте.</p>\n",
    "\n",
    "<hr>\n",
    "\n",
    "### Разрезание строк (slicing)\n",
    "\n",
    "<p>Строки нельзя делить, но их можно разрезать. Для того, чтобы разрезать строчку, рядом с переменной, которая ее хранит, нужно поставить квадратные скобки и указать промежуток из индексов, в рамках которого вы хотите разрезать строчку.</p>"
   ],
   "metadata": {
    "collapsed": false,
    "pycharm": {
     "name": "#%% md\n"
    }
   }
  },
  {
   "cell_type": "code",
   "execution_count": 29,
   "outputs": [
    {
     "name": "stdout",
     "output_type": "stream",
     "text": [
      "Андрей\n"
     ]
    }
   ],
   "source": [
    "phrase2 = 'Привет, Андрей! Зачем ты плюнул в голубей?'\n",
    "\n",
    "# вырежу слово \"Андрей\". Для этоого посчитаю индексы\n",
    "print(phrase2[8:14])"
   ],
   "metadata": {
    "collapsed": false,
    "pycharm": {
     "name": "#%%\n"
    }
   }
  },
  {
   "cell_type": "markdown",
   "source": [
    "<p>Если вы хотите обрезать строчку с начала до символа <b>n</b>, то первый индекс можно не указывать - <code>a[:n]</code> - строчка автоматически обрежется с начала, до указанного индекса.</p>"
   ],
   "metadata": {
    "collapsed": false,
    "pycharm": {
     "name": "#%% md\n"
    }
   }
  },
  {
   "cell_type": "code",
   "execution_count": 28,
   "outputs": [
    {
     "name": "stdout",
     "output_type": "stream",
     "text": [
      "Привет\n"
     ]
    }
   ],
   "source": [
    "# вырежу слово \"привет\"\n",
    "print(phrase2[:6])"
   ],
   "metadata": {
    "collapsed": false,
    "pycharm": {
     "name": "#%%\n"
    }
   }
  },
  {
   "cell_type": "markdown",
   "source": [
    "<p>Если вы хотите обрезать строчку с символа <b>n</b> и до конца, то второй индекс можно не указывать - <code>a[n:]</code> - строчка автоматически обрежется c указанного индекса, до конца.</p>"
   ],
   "metadata": {
    "collapsed": false,
    "pycharm": {
     "name": "#%% md\n"
    }
   }
  },
  {
   "cell_type": "code",
   "execution_count": 27,
   "outputs": [
    {
     "name": "stdout",
     "output_type": "stream",
     "text": [
      "Зачем ты плюнул в голубей?\n"
     ]
    }
   ],
   "source": [
    "# вырежу фразу про голубей\n",
    "print(phrase2[16:])"
   ],
   "metadata": {
    "collapsed": false,
    "pycharm": {
     "name": "#%%\n"
    }
   }
  },
  {
   "cell_type": "markdown",
   "source": [
    "## Методы строк \n",
    "\n",
    "<p>У строчек есть большое количество методов, которые могут их дополнять/изменять.</p>\n",
    "\n",
    "### Методы изменения регистра строки \n",
    "\n",
    "<ol>\n",
    "    <li><code>.title()</code> - приводит все буквы в строке в нижний регистр, а каждое новое слово пишется с большой буквы;</li>\n",
    "    <li><code>.upper()</code> - приводит все буквы в строке в верхний регистр (как CapsLock).</li>\n",
    "    <li><code>.lower()</code> - приводит все буквы в строке в нижний регистр.</li>\n",
    "</ol>"
   ],
   "metadata": {
    "collapsed": false,
    "pycharm": {
     "name": "#%% md\n"
    }
   }
  },
  {
   "cell_type": "code",
   "execution_count": 26,
   "outputs": [
    {
     "name": "stdout",
     "output_type": "stream",
     "text": [
      "title(): Я Пришел К Тебе С Приветом\n",
      "upper(): Я ПРИШЕЛ К ТЕБЕ С ПРИВЕТОМ\n",
      "lower(): я пришел к тебе с приветом\n"
     ]
    }
   ],
   "source": [
    "phrase3 = 'я пРиШел к ТеБе с пРиВеТоМ'\n",
    "\n",
    "print(f'title(): {phrase3.title()}')\n",
    "print(f'upper(): {phrase3.upper()}')\n",
    "print(f'lower(): {phrase3.lower()}')"
   ],
   "metadata": {
    "collapsed": false,
    "pycharm": {
     "name": "#%%\n"
    }
   }
  },
  {
   "cell_type": "markdown",
   "source": [
    "<p>Обратите внимание, что для вызова метода нужно создать переменную, затем после нее поставить точку и написать название метода - <code>variable.method_name()</code>.</p>\n",
    "\n",
    "<p>В отличие от очень многих методов, <code><b>.lower()</b></code> и <code><b>.upper()</b></code> используется часто в реальной практике.</p>"
   ],
   "metadata": {
    "collapsed": false,
    "pycharm": {
     "name": "#%% md\n"
    }
   }
  },
  {
   "cell_type": "code",
   "execution_count": 25,
   "outputs": [
    {
     "name": "stdout",
     "output_type": "stream",
     "text": [
      "False\n",
      "True\n"
     ]
    }
   ],
   "source": [
    "email1 = 'greatraksin@icloud.com'\n",
    "email2 = 'GreatRaksin@iCloud.com'\n",
    "\n",
    "print(email1 == email2)  # будет False, потому что email'ы написаны разными регистрами \n",
    "print(email1 == email2.lower())  # будет True, потому что регистры уравнялись"
   ],
   "metadata": {
    "collapsed": false,
    "pycharm": {
     "name": "#%%\n"
    }
   }
  },
  {
   "cell_type": "code",
   "execution_count": null,
   "outputs": [],
   "source": [],
   "metadata": {
    "collapsed": false,
    "pycharm": {
     "name": "#%%\n"
    }
   }
  },
  {
   "cell_type": "code",
   "execution_count": 16,
   "metadata": {},
   "outputs": [
    {
     "name": "stdout",
     "output_type": "stream",
     "text": [
      "aaaaa\n"
     ]
    }
   ],
   "source": [
    "letter = 'a'\n",
    "\n",
    "print(letter * 5)"
   ]
  },
  {
   "attachments": {},
   "cell_type": "markdown",
   "metadata": {},
   "source": [
    "### Деление строк\n",
    "\n",
    "<p>Лучшее, что я могу предложить - на картинке.</p>\n",
    "\n",
    "![strings.png](strings.png)\n",
    "\n",
    "<p>Операция разности и операция деления в принципе для компьютера являются очень нежелательными. Деление - это очень не логичная операция, потому что <b>10 / 2</b> - это может быть <b>1 и 9</b>, <b>2 и 8</b>, <b>3 и 7</b> и т.д.</p>\n",
    "\n",
    "<p>Операции деления и разности со строками невозможны в силу того, что написано на скриншоте.</p>\n",
    "\n",
    "<hr>\n",
    "\n",
    "### Разрезание строк (slicing)\n",
    "\n",
    "<p>Строки нельзя делить, но их можно разрезать. Для того, чтобы разрезать строчку, рядом с переменной, которая ее хранит, нужно поставить квадратные скобки и указать промежуток из индексов, в рамках которого вы хотите разрезать строчку.</p>"
   ]
  },
  {
   "cell_type": "code",
   "execution_count": 17,
   "metadata": {},
   "outputs": [
    {
     "name": "stdout",
     "output_type": "stream",
     "text": [
      "Андрей\n"
     ]
    }
   ],
   "source": [
    "phrase2 = 'Привет, Андрей! Зачем ты плюнул в голубей?'\n",
    "\n",
    "# вырежу слово \"Андрей\". Для этоого посчитаю индексы\n",
    "print(phrase2[8:14])"
   ]
  },
  {
   "cell_type": "markdown",
   "metadata": {},
   "source": [
    "<p>Если вы хотите обрезать строчку с начала до символа <b>n</b>, то первый индекс можно не указывать - <code>a[:n]</code> - строчка автоматически обрежется с начала, до указанного индекса.</p>"
   ]
  },
  {
   "cell_type": "code",
   "execution_count": 18,
   "metadata": {},
   "outputs": [
    {
     "name": "stdout",
     "output_type": "stream",
     "text": [
      "Привет\n"
     ]
    }
   ],
   "source": [
    "# вырежу слово \"привет\"\n",
    "print(phrase2[:6])"
   ]
  },
  {
   "cell_type": "markdown",
   "metadata": {},
   "source": [
    "<p>Если вы хотите обрезать строчку с символа <b>n</b> и до конца, то второй индекс можно не указывать - <code>a[n:]</code> - строчка автоматически обрежется c указанного индекса, до конца.</p>"
   ]
  },
  {
   "cell_type": "code",
   "execution_count": 20,
   "metadata": {},
   "outputs": [
    {
     "name": "stdout",
     "output_type": "stream",
     "text": [
      "Зачем ты плюнул в голубей?\n"
     ]
    }
   ],
   "source": [
    "# вырежу фразу про голубей\n",
    "print(phrase2[16:])"
   ]
  },
  {
   "cell_type": "markdown",
   "metadata": {},
   "source": [
    "## Методы строк \n",
    "\n",
    "<p>У строчек есть большое количество методов, которые могут их дополнять/изменять.</p>\n",
    "\n",
    "### Методы изменения регистра строки \n",
    "\n",
    "<ol>\n",
    "    <li><code>.title()</code> - приводит все буквы в строке в нижний регистр, а каждое новое слово пишется с большой буквы;</li>\n",
    "    <li><code>.upper()</code> - приводит все буквы в строке в верхний регистр (как CapsLock).</li>\n",
    "    <li><code>.lower()</code> - приводит все буквы в строке в нижний регистр.</li>\n",
    "</ol>"
   ]
  },
  {
   "cell_type": "code",
   "execution_count": 21,
   "metadata": {},
   "outputs": [
    {
     "name": "stdout",
     "output_type": "stream",
     "text": [
      "title(): Я Пришел К Тебе С Приветом\n",
      "upper(): Я ПРИШЕЛ К ТЕБЕ С ПРИВЕТОМ\n",
      "lower(): я пришел к тебе с приветом\n"
     ]
    }
   ],
   "source": [
    "phrase3 = 'я пРиШел к ТеБе с пРиВеТоМ'\n",
    "\n",
    "print(f'title(): {phrase3.title()}')\n",
    "print(f'upper(): {phrase3.upper()}')\n",
    "print(f'lower(): {phrase3.lower()}')"
   ]
  },
  {
   "cell_type": "markdown",
   "metadata": {},
   "source": [
    "<p>Обратите внимание, что для вызова метода нужно создать переменную, затем после нее поставить точку и написать название метода - <code>variable.method_name()</code>.</p>\n",
    "\n",
    "<p>В отличие от очень многих методов, <code><b>.lower()</b></code> и <code><b>.upper()</b></code> используется часто в реальной практике.</p>"
   ]
  },
  {
   "cell_type": "code",
   "execution_count": 24,
   "metadata": {},
   "outputs": [
    {
     "name": "stdout",
     "output_type": "stream",
     "text": [
      "False\n",
      "True\n"
     ]
    }
   ],
   "source": [
    "email1 = 'greatraksin@icloud.com'\n",
    "email2 = 'GreatRaksin@iCloud.com'\n",
    "\n",
    "print(email1 == email2)  # будет False, потому что email'ы написаны разными регистрами \n",
    "print(email1 == email2.lower())  # будет True, потому что регистры уравнялись"
   ]
  }
 ],
 "metadata": {
  "kernelspec": {
   "display_name": "Python 3 (ipykernel)",
   "language": "python",
   "name": "python3"
  },
  "language_info": {
   "codemirror_mode": {
    "name": "ipython",
    "version": 3
   },
   "file_extension": ".py",
   "mimetype": "text/x-python",
   "name": "python",
   "nbconvert_exporter": "python",
   "pygments_lexer": "ipython3",
   "version": "3.10.4"
  }
 },
 "nbformat": 4,
 "nbformat_minor": 1
}